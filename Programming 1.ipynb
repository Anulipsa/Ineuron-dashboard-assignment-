{
 "cells": [
  {
   "cell_type": "markdown",
   "id": "9c434c95-20d2-4055-bf2d-cee09aae89b9",
   "metadata": {},
   "source": [
    "## 1.Write a Python program to print \"Hello Python ?"
   ]
  },
  {
   "cell_type": "code",
   "execution_count": 2,
   "id": "1878ef06-0862-43ea-93c9-d698a5e19d01",
   "metadata": {},
   "outputs": [
    {
     "name": "stdout",
     "output_type": "stream",
     "text": [
      "Hello Python\n"
     ]
    }
   ],
   "source": [
    "print(\"Hello Python\")"
   ]
  },
  {
   "cell_type": "markdown",
   "id": "0e8ef14e-7aac-4c2a-a7fb-73955a5a0193",
   "metadata": {},
   "source": [
    "## 2.Write a Python program to do arithmetical operations addition and division.?"
   ]
  },
  {
   "cell_type": "code",
   "execution_count": 4,
   "id": "7d40b011-c9c2-46d6-81ae-27ffc0ab370d",
   "metadata": {},
   "outputs": [
    {
     "name": "stdout",
     "output_type": "stream",
     "text": [
      "Addition of x and y is 11\n",
      "division of x and y is  0.8333333333333334\n"
     ]
    }
   ],
   "source": [
    "x=5\n",
    "y=6\n",
    "print(\"Addition of x and y is\",x+y)\n",
    "print(\"division of x and y is \",x/y)"
   ]
  },
  {
   "cell_type": "markdown",
   "id": "c34ae8b3-d633-41cd-9043-5b3bc68ab752",
   "metadata": {},
   "source": [
    "## 3.Write a Python program to find the area of a triangle?"
   ]
  },
  {
   "cell_type": "code",
   "execution_count": 9,
   "id": "952fc46e-dd01-43a3-93a7-98f9da023fe8",
   "metadata": {},
   "outputs": [
    {
     "name": "stdin",
     "output_type": "stream",
     "text": [
      "Enter first side:  5\n",
      "Enter second side:  6\n",
      "Enter third side:  7\n"
     ]
    },
    {
     "name": "stdout",
     "output_type": "stream",
     "text": [
      "The area is  14.696938456699069\n"
     ]
    }
   ],
   "source": [
    "##Three sides of the triangle is a, b and c:\n",
    "\n",
    "a = float(input('Enter first side: '))\n",
    "\n",
    "b = float(input('Enter second side: '))\n",
    "\n",
    "c = float(input('Enter third side: '))\n",
    "\n",
    "## calculate the semi-perimeter.\n",
    "\n",
    "s = (a + b + c) / 2\n",
    "\n",
    "## calculate the area.\n",
    "\n",
    "area = (s*(s-a)*(s-b)*(s-c)) ** 0.5\n",
    "print(\"The area is \", area)"
   ]
  },
  {
   "cell_type": "markdown",
   "id": "e376a0f4-aee8-4e8a-81ca-9cb549aab5de",
   "metadata": {},
   "source": [
    "## 4.\tWrite a Python program to swap two variables?"
   ]
  },
  {
   "cell_type": "code",
   "execution_count": 2,
   "id": "2c7d18d2-fbdf-4e99-966f-03a57feaec5e",
   "metadata": {},
   "outputs": [
    {
     "name": "stdin",
     "output_type": "stream",
     "text": [
      "Enter first number: 5\n",
      "Enter second number: 6\n"
     ]
    },
    {
     "name": "stdout",
     "output_type": "stream",
     "text": [
      "value of num1 before swapping: 5\n",
      "value of num2 before swapping: 6\n",
      "value of num1 after swapping: 6\n",
      "value of num2 after swapping: 5\n"
     ]
    }
   ],
   "source": [
    "num1=input(\"Enter first number:\")\n",
    "num2=input(\"Enter second number:\")\n",
    "print(\"value of num1 before swapping:\",num1)\n",
    "print(\"value of num2 before swapping:\",num2)\n",
    "## swapping two variables\n",
    "temp=num1\n",
    "num1=num2\n",
    "num2=temp\n",
    "print(\"value of num1 after swapping:\",num1)\n",
    "print(\"value of num2 after swapping:\",num2)"
   ]
  },
  {
   "cell_type": "markdown",
   "id": "8f47bc77-3e83-4a46-b9f8-3d43110124f9",
   "metadata": {},
   "source": [
    "## 5.Write a Python program to generate a random number"
   ]
  },
  {
   "cell_type": "code",
   "execution_count": 3,
   "id": "3ec4e73a-d593-4f94-b6dc-21a86e2862cf",
   "metadata": {},
   "outputs": [
    {
     "name": "stdout",
     "output_type": "stream",
     "text": [
      "2019\n"
     ]
    }
   ],
   "source": [
    "import random\n",
    "print(random.randint(0,5000))"
   ]
  },
  {
   "cell_type": "code",
   "execution_count": null,
   "id": "a780f3db-13df-4dc9-9340-f76621d84342",
   "metadata": {},
   "outputs": [],
   "source": []
  },
  {
   "cell_type": "code",
   "execution_count": null,
   "id": "7e30d874-ac3d-4084-93c1-5663fe6443f6",
   "metadata": {},
   "outputs": [],
   "source": []
  },
  {
   "cell_type": "markdown",
   "id": "ff29a351-9f4a-44eb-a3be-42e729fcbb03",
   "metadata": {},
   "source": []
  },
  {
   "cell_type": "code",
   "execution_count": null,
   "id": "22943867-8521-46c4-88c9-a342ff2897d4",
   "metadata": {},
   "outputs": [],
   "source": []
  },
  {
   "cell_type": "code",
   "execution_count": null,
   "id": "98b08e87-217d-40e3-aa22-c5c9ed844e1b",
   "metadata": {},
   "outputs": [],
   "source": []
  },
  {
   "cell_type": "code",
   "execution_count": null,
   "id": "540ae170-9263-423e-a530-8db01e153453",
   "metadata": {},
   "outputs": [],
   "source": []
  },
  {
   "cell_type": "code",
   "execution_count": null,
   "id": "93e234b6-ef04-4745-bda6-519c44c911f8",
   "metadata": {},
   "outputs": [],
   "source": []
  },
  {
   "cell_type": "code",
   "execution_count": null,
   "id": "0972dbb2-622c-4eab-a69d-49061affcf99",
   "metadata": {},
   "outputs": [],
   "source": []
  },
  {
   "cell_type": "code",
   "execution_count": null,
   "id": "a81fc86a-b699-4b92-ba1e-3e6ad3998d2f",
   "metadata": {},
   "outputs": [],
   "source": []
  }
 ],
 "metadata": {
  "kernelspec": {
   "display_name": "Python 3 (ipykernel)",
   "language": "python",
   "name": "python3"
  },
  "language_info": {
   "codemirror_mode": {
    "name": "ipython",
    "version": 3
   },
   "file_extension": ".py",
   "mimetype": "text/x-python",
   "name": "python",
   "nbconvert_exporter": "python",
   "pygments_lexer": "ipython3",
   "version": "3.10.6"
  }
 },
 "nbformat": 4,
 "nbformat_minor": 5
}
