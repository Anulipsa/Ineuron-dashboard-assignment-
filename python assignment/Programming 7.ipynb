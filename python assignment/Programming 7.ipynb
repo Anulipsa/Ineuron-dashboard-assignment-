{
 "cells": [
  {
   "cell_type": "markdown",
   "id": "d21742f8-7dd1-415e-a621-fa140f56f3df",
   "metadata": {},
   "source": [
    "## 1.\tWrite a Python Program to find sum of array"
   ]
  },
  {
   "cell_type": "code",
   "execution_count": 1,
   "id": "91ce4433-fa35-4b01-8bff-c42861cb2fe6",
   "metadata": {},
   "outputs": [
    {
     "name": "stdout",
     "output_type": "stream",
     "text": [
      "Sum of the array is  56\n"
     ]
    }
   ],
   "source": [
    "import array as ar\n",
    "\n",
    "def SumofArray(arr):\n",
    "    sum=0\n",
    "    n = len(arr)\n",
    "    for i in range(n):\n",
    "        sum = sum + arr[i]\n",
    "    return sum\n",
    "  \n",
    "#input values to list \n",
    "a = ar.array('i',[10, 21, 12, 13])\n",
    "  \n",
    "# display sum \n",
    "print ('Sum of the array is ', SumofArray(a) ) "
   ]
  },
  {
   "cell_type": "markdown",
   "id": "21f68631-95b5-4df8-b415-862cc095b40a",
   "metadata": {},
   "source": [
    "## 2.\tWrite a Python Program to find largest element in an array"
   ]
  },
  {
   "cell_type": "code",
   "execution_count": 2,
   "id": "e1061270-d551-477d-b486-339923a025a1",
   "metadata": {},
   "outputs": [
    {
     "name": "stdout",
     "output_type": "stream",
     "text": [
      "Largest in given array  9808\n"
     ]
    }
   ],
   "source": [
    "def largest(arr, n):\n",
    " \n",
    "    # Initialize maximum element\n",
    "    max = arr[0]\n",
    " \n",
    "    # Traverse array elements from second\n",
    "    # and compare every element with\n",
    "    # current max\n",
    "    for i in range(1, n):\n",
    "        if arr[i] > max:\n",
    "            max = arr[i]\n",
    "    return max\n",
    " \n",
    " \n",
    " # Driver Code\n",
    "arr = [10, 324, 45, 90, 9808]\n",
    "n = len(arr)\n",
    "Ans = largest(arr, n)\n",
    "print(\"Largest in given array \", Ans)"
   ]
  },
  {
   "cell_type": "markdown",
   "id": "7b8393a8-7f9e-4950-8158-1aeb39563478",
   "metadata": {},
   "source": [
    "## 3.\tWrite a Python Program for array rotation"
   ]
  },
  {
   "cell_type": "code",
   "execution_count": 3,
   "id": "e13d4f0d-e3b0-44e5-9ee9-d2d5ed4b20ae",
   "metadata": {},
   "outputs": [
    {
     "name": "stdout",
     "output_type": "stream",
     "text": [
      "Array after left rotation is:  [3, 4, 5, 6, 7, 1, 2]\n"
     ]
    }
   ],
   "source": [
    "def rotateArray(a,d):\n",
    "    temp = []\n",
    "    n=len(a)\n",
    "    for i in range(d,n):\n",
    "        temp.append(a[i])\n",
    "    i = 0\n",
    "    for i in range (0,d):\n",
    "        temp.append(a[i])\n",
    "    a=temp.copy()\n",
    "    return a\n",
    " \n",
    "arr = [1, 2, 3, 4, 5, 6, 7]\n",
    "print(\"Array after left rotation is: \", end=' ')\n",
    "print(rotateArray(arr, 2))"
   ]
  },
  {
   "cell_type": "markdown",
   "id": "3ffa6d35-af54-4d95-b923-e590d3b191f6",
   "metadata": {},
   "source": [
    "## 4.\tWrite a Python Program to Split the array and add the first part to the end"
   ]
  },
  {
   "cell_type": "code",
   "execution_count": 4,
   "id": "f6e80405-7465-49b6-b55b-aed4dd4df345",
   "metadata": {},
   "outputs": [
    {
     "name": "stdout",
     "output_type": "stream",
     "text": [
      "5 6 52 36 12 10 "
     ]
    }
   ],
   "source": [
    "# Python program to split array and move first\n",
    "# part to end.\n",
    " \n",
    "def splitArr(arr, n, k):\n",
    "    for i in range(0, k):\n",
    "        x = arr[0]\n",
    "        for j in range(0, n-1):\n",
    "            arr[j] = arr[j + 1]\n",
    "         \n",
    "        arr[n-1] = x\n",
    "         \n",
    " \n",
    " # main\n",
    "arr = [12, 10, 5, 6, 52, 36]\n",
    "n = len(arr)\n",
    "position = 2\n",
    " \n",
    "splitArr(arr, n, position)\n",
    " \n",
    "for i in range(0, n):\n",
    "    print(arr[i], end = ' ')"
   ]
  },
  {
   "cell_type": "markdown",
   "id": "45b05e26-3264-4789-97db-1cffd20702b4",
   "metadata": {},
   "source": [
    "## 5.\tWrite a Python Program to check if given array is Monotonic"
   ]
  },
  {
   "cell_type": "code",
   "execution_count": 5,
   "id": "606a6b46-401b-4847-9142-ba070927dc35",
   "metadata": {},
   "outputs": [
    {
     "name": "stdout",
     "output_type": "stream",
     "text": [
      "True\n"
     ]
    }
   ],
   "source": [
    "# Check if given array is Monotonic\n",
    "def isMonotonic(A):\n",
    "    x, y = [], []\n",
    "    x.extend(A)\n",
    "    y.extend(A)\n",
    "    x.sort()\n",
    "    y.sort(reverse=True)\n",
    "    if(x == A or y == A):\n",
    "        return True\n",
    "    return False\n",
    " \n",
    " \n",
    " # Driver program\n",
    "A = [6, 5, 4, 4]\n",
    " \n",
    "# Print required result\n",
    "print(isMonotonic(A))"
   ]
  },
  {
   "cell_type": "code",
   "execution_count": null,
   "id": "f2bac642-b01c-4a9a-a86a-e5f7f74ded08",
   "metadata": {},
   "outputs": [],
   "source": []
  }
 ],
 "metadata": {
  "kernelspec": {
   "display_name": "Python 3 (ipykernel)",
   "language": "python",
   "name": "python3"
  },
  "language_info": {
   "codemirror_mode": {
    "name": "ipython",
    "version": 3
   },
   "file_extension": ".py",
   "mimetype": "text/x-python",
   "name": "python",
   "nbconvert_exporter": "python",
   "pygments_lexer": "ipython3",
   "version": "3.10.6"
  }
 },
 "nbformat": 4,
 "nbformat_minor": 5
}
