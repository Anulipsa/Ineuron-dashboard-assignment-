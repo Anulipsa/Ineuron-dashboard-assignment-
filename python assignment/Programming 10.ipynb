{
 "cells": [
  {
   "cell_type": "markdown",
   "id": "5b2e053a-9062-4be9-bdf7-a2fbf2e5c591",
   "metadata": {},
   "source": [
    "## 1.\tWrite a Python program to find sum of elements in list"
   ]
  },
  {
   "cell_type": "code",
   "execution_count": 1,
   "id": "faab6670-af94-4792-95dd-188a1fd4eee9",
   "metadata": {},
   "outputs": [
    {
     "name": "stdin",
     "output_type": "stream",
     "text": [
      "Enter the lenth of your list :  5\n",
      " 1\n",
      " 2\n",
      " 2\n",
      " 3\n",
      " 5\n"
     ]
    },
    {
     "name": "stdout",
     "output_type": "stream",
     "text": [
      "The List is  [1, 2, 2, 3, 5]\n",
      "Sum of elements in List 13\n"
     ]
    }
   ],
   "source": [
    "n = int(input(\"Enter the lenth of your list : \"))\n",
    "lst = []\n",
    "\n",
    "for i in range(n):\n",
    "    lst.append(int(input()))\n",
    "print(\"The List is \",lst)\n",
    "print(\"Sum of elements in List\",sum(lst))\n"
   ]
  },
  {
   "cell_type": "markdown",
   "id": "24b803cc-32c4-44c6-a8e8-284e6ebba0d3",
   "metadata": {},
   "source": [
    "## 2.\tWrite a Python program to  Multiply all numbers in the list?\n"
   ]
  },
  {
   "cell_type": "code",
   "execution_count": 3,
   "id": "7a7ffccf-db54-4e0e-bf9c-344afe22a83e",
   "metadata": {},
   "outputs": [
    {
     "name": "stdin",
     "output_type": "stream",
     "text": [
      "Enter the lenth of your list :  5\n",
      " 1\n",
      " 2\n",
      " 3\n",
      " 4\n",
      " 5\n"
     ]
    },
    {
     "name": "stdout",
     "output_type": "stream",
     "text": [
      "The List is  [1, 2, 3, 4, 5]\n",
      "Product of elements in List is : 120\n"
     ]
    }
   ],
   "source": [
    "n = int(input(\"Enter the lenth of your list : \"))\n",
    "lst = []\n",
    "\n",
    "for i in range(n):\n",
    "    lst.append(int(input()))\n",
    "print(\"The List is \",lst)\n",
    "product = 1\n",
    "for i in lst:\n",
    "    product = product*i\n",
    "print(\"Product of elements in List is :\",product)"
   ]
  },
  {
   "cell_type": "markdown",
   "id": "99b51c50-a8e3-4b29-a23f-986370c16d1e",
   "metadata": {},
   "source": [
    "## 3.\tWrite a Python program to find smallest number in a list?\n",
    "\n"
   ]
  },
  {
   "cell_type": "code",
   "execution_count": 4,
   "id": "43188949-c7f5-48f3-95a4-7cf3d1512052",
   "metadata": {},
   "outputs": [
    {
     "name": "stdin",
     "output_type": "stream",
     "text": [
      "Enter the lenth of your list :  3\n",
      " 1\n",
      " 2\n",
      " 3\n"
     ]
    },
    {
     "name": "stdout",
     "output_type": "stream",
     "text": [
      "The List is  [1, 2, 3]\n",
      "The Smallest no. in the list is : 1\n"
     ]
    }
   ],
   "source": [
    "n = int(input(\"Enter the lenth of your list : \"))\n",
    "lst = []\n",
    "\n",
    "for i in range(n):\n",
    "    lst.append(int(input()))\n",
    "print(\"The List is \",lst)\n",
    "print(\"The Smallest no. in the list is :\",min(lst))"
   ]
  },
  {
   "cell_type": "markdown",
   "id": "04d11b2e-1ff1-4a68-85e0-4a659a2fb769",
   "metadata": {},
   "source": [
    "## 4.\tWrite a Python program to find largest number in a list?\n"
   ]
  },
  {
   "cell_type": "code",
   "execution_count": 5,
   "id": "de8fc892-76b7-4461-a805-cbe89b2c2275",
   "metadata": {},
   "outputs": [
    {
     "name": "stdin",
     "output_type": "stream",
     "text": [
      "Enter the lenth of your list :  4\n",
      " 1\n",
      " 5\n",
      " 6\n",
      " 3\n"
     ]
    },
    {
     "name": "stdout",
     "output_type": "stream",
     "text": [
      "The List is  [1, 5, 6, 3]\n",
      "The largest no. in the list is : 6\n"
     ]
    }
   ],
   "source": [
    "n = int(input(\"Enter the lenth of your list : \"))\n",
    "lst = []\n",
    "\n",
    "for i in range(n):\n",
    "    lst.append(int(input()))\n",
    "print(\"The List is \",lst)\n",
    "print(\"The largest no. in the list is :\",max(lst))"
   ]
  },
  {
   "cell_type": "markdown",
   "id": "961929ed-24f2-4d51-b507-e117eef44e70",
   "metadata": {},
   "source": [
    "## 5.\tWrite a Python program to find second largest number in a list?\n"
   ]
  },
  {
   "cell_type": "code",
   "execution_count": 6,
   "id": "993dad09-92e8-4894-948c-743a75107e0c",
   "metadata": {},
   "outputs": [
    {
     "name": "stdin",
     "output_type": "stream",
     "text": [
      "Enter the lenth of your list :  5\n",
      " 6\n",
      " 8\n",
      " 5\n",
      " 14\n",
      " 9\n"
     ]
    },
    {
     "name": "stdout",
     "output_type": "stream",
     "text": [
      "The List is  [6, 8, 5, 14, 9]\n",
      "The sorted list is  [5, 6, 8, 9, 14]\n",
      "The second largest number in the list is  9\n"
     ]
    }
   ],
   "source": [
    "n = int(input(\"Enter the lenth of your list : \"))\n",
    "lst = []\n",
    "\n",
    "for i in range(n):\n",
    "    lst.append(int(input()))\n",
    "print(\"The List is \",lst)\n",
    "lst.sort()\n",
    "print(\"The sorted list is \",lst)\n",
    "print(\"The second largest number in the list is \",lst[-2])\n",
    "     "
   ]
  },
  {
   "cell_type": "markdown",
   "id": "829d15b3-f871-47cf-9b67-422d5cd4af03",
   "metadata": {},
   "source": [
    "## 6.\tWrite a Python program to find N largest elements from a list?\n"
   ]
  },
  {
   "cell_type": "code",
   "execution_count": 7,
   "id": "c625086f-6802-4e1a-8639-5e444f48749a",
   "metadata": {},
   "outputs": [
    {
     "name": "stdin",
     "output_type": "stream",
     "text": [
      "Enter the lenth of your list :  5\n",
      " 1\n",
      " 4\n",
      " 5\n",
      " 6\n",
      " 8\n"
     ]
    },
    {
     "name": "stdout",
     "output_type": "stream",
     "text": [
      "The List is  [1, 4, 5, 6, 8]\n",
      "The sorted list is  [1, 4, 5, 6, 8]\n"
     ]
    },
    {
     "name": "stdin",
     "output_type": "stream",
     "text": [
      "Enter how many largest number you want from list: 2\n"
     ]
    },
    {
     "name": "stdout",
     "output_type": "stream",
     "text": [
      "2 largest elements from the list are : [6, 8]\n"
     ]
    }
   ],
   "source": [
    "n = int(input(\"Enter the lenth of your list : \"))\n",
    "lst = []\n",
    "\n",
    "for i in range(n):\n",
    "    lst.append(int(input()))\n",
    "print(\"The List is \",lst)\n",
    "lst.sort()\n",
    "print(\"The sorted list is \",lst)\n",
    "nlar = int(input(\"Enter how many largest number you want from list:\"))\n",
    "\n",
    "if n < nlar :\n",
    "    print(\"enterted value is larger then the length of list\")\n",
    "else:\n",
    "    print(nlar,\"largest elements from the list are :\",lst[(n-nlar):])"
   ]
  },
  {
   "cell_type": "markdown",
   "id": "3baff1f0-47f0-4d7b-834d-fcec7763dd8f",
   "metadata": {},
   "source": [
    "## 7.\tWrite a Python program to print even numbers in a list?\n"
   ]
  },
  {
   "cell_type": "code",
   "execution_count": 8,
   "id": "5cc39702-f1b8-4d1a-9eae-ac4b01f1cf5f",
   "metadata": {},
   "outputs": [
    {
     "name": "stdin",
     "output_type": "stream",
     "text": [
      "Enter  the len of the list : 6\n",
      " 2\n",
      " 6\n",
      " 4\n",
      " 5\n",
      " 9\n",
      " 7\n"
     ]
    },
    {
     "name": "stdout",
     "output_type": "stream",
     "text": [
      "The List is : [2, 6, 4, 5, 9, 7]\n",
      "The even numbers in list [2, 6, 4]\n"
     ]
    }
   ],
   "source": [
    "lent =  int(input(\"Enter  the len of the list :\"))\n",
    "lst = []\n",
    "for i in  range(lent):\n",
    " lst.append(int(input()))\n",
    "print(\"The List is :\" ,lst)\n",
    "even = [i for i in lst if i%2==0 ]\n",
    "print(\"The even numbers in list\" , even)\n"
   ]
  },
  {
   "cell_type": "markdown",
   "id": "02f31725-0a75-4f2f-bbb4-9286aafbb4e8",
   "metadata": {},
   "source": [
    "## 8.\tWrite a Python program to print odd numbers in a List?\n"
   ]
  },
  {
   "cell_type": "code",
   "execution_count": 9,
   "id": "2290cff3-5005-4eae-8d17-f37f24eb24eb",
   "metadata": {},
   "outputs": [
    {
     "name": "stdin",
     "output_type": "stream",
     "text": [
      "Enter  the len of the list : 6\n",
      " 5\n",
      " 4\n",
      " 6\n",
      " 1\n",
      " 3\n",
      " 8\n"
     ]
    },
    {
     "name": "stdout",
     "output_type": "stream",
     "text": [
      "The List is : [5, 4, 6, 1, 3, 8]\n",
      "The even numbers in list [5, 1, 3]\n"
     ]
    }
   ],
   "source": [
    "lent =  int(input(\"Enter  the len of the list :\"))\n",
    "lst = []\n",
    "for i in  range(lent):\n",
    "  lst.append(int(input()))\n",
    "print(\"The List is :\" ,lst)\n",
    "odd = [i for i in lst if i%2 != 0 ]\n",
    "print(\"The even numbers in list\" , odd)"
   ]
  },
  {
   "cell_type": "markdown",
   "id": "b0b7241f-5953-4a2f-a50c-903e244fdd4c",
   "metadata": {},
   "source": [
    "## 9.\tWrite a Python program to Remove empty List from List?\n"
   ]
  },
  {
   "cell_type": "code",
   "execution_count": 10,
   "id": "2d96510b-dd02-4d11-9408-8bd94d122542",
   "metadata": {},
   "outputs": [
    {
     "name": "stdout",
     "output_type": "stream",
     "text": [
      "The List : [55, [], 14, 75, [], 96, 80, [], 36]\n",
      "The list after removing empty lists : [55, 14, 75, 96, 80, 36]\n"
     ]
    }
   ],
   "source": [
    "lst = [55,[],14,75,[],96,80,[],36]\n",
    "print(\"The List :\",lst)\n",
    "new_list = [item for item in lst if item != []]\n",
    "print(\"The list after removing empty lists :\" , new_list)"
   ]
  },
  {
   "cell_type": "markdown",
   "id": "ff317858-a3a0-4150-90f2-ae72b4f39c41",
   "metadata": {},
   "source": [
    "## 10.\tWrite a Python program to Cloning or Copying a list?\n"
   ]
  },
  {
   "cell_type": "code",
   "execution_count": 11,
   "id": "796ce7e3-ca8d-45ec-b251-00b76115c590",
   "metadata": {},
   "outputs": [
    {
     "name": "stdin",
     "output_type": "stream",
     "text": [
      "Enter the lenth of your list :  6\n",
      " 5\n",
      " 6\n",
      " 8\n",
      " 9\n",
      " 7\n",
      " 3\n"
     ]
    },
    {
     "name": "stdout",
     "output_type": "stream",
     "text": [
      "The List is  [5, 6, 8, 9, 7, 3]\n",
      "Cloning By list copying lst  [5, 6, 8, 9, 7, 3]\n"
     ]
    }
   ],
   "source": [
    "n = int(input(\"Enter the lenth of your list : \"))\n",
    "lst = []\n",
    "\n",
    "for i in range(n):\n",
    "    lst.append(int(input()))\n",
    "print(\"The List is \",lst)\n",
    "\n",
    "lst_copy = lst.copy()\n",
    "print(\"Cloning By list copying lst \",lst_copy)"
   ]
  },
  {
   "cell_type": "markdown",
   "id": "635e72d8-ac9c-4af5-9d10-ab004791cbb0",
   "metadata": {},
   "source": [
    "## 11.\tWrite a Python program to Count occurrences of an element in a list?"
   ]
  },
  {
   "cell_type": "code",
   "execution_count": 12,
   "id": "76711dda-b98f-4bb3-af21-b136f9fe6cb0",
   "metadata": {},
   "outputs": [
    {
     "name": "stdin",
     "output_type": "stream",
     "text": [
      "Enter the lenth of your list :  8\n",
      " 5\n",
      " 4\n",
      " 6\n",
      " 7\n",
      " 9\n",
      " 2\n",
      " 3\n",
      " 1\n"
     ]
    },
    {
     "name": "stdout",
     "output_type": "stream",
     "text": [
      "The List is  [5, 4, 6, 7, 9, 2, 3, 1]\n"
     ]
    },
    {
     "name": "stdin",
     "output_type": "stream",
     "text": [
      "Enter the element to find its occurance :  7\n"
     ]
    },
    {
     "name": "stdout",
     "output_type": "stream",
     "text": [
      "7 has occured 1 times in the list \n"
     ]
    }
   ],
   "source": [
    "lent = int(input(\"Enter the lenth of your list : \"))\n",
    "lst = []\n",
    "\n",
    "for i in range(lent):\n",
    "    lst.append(int(input()))\n",
    "print(\"The List is \",lst)\n",
    "ele= int(input(\"Enter the element to find its occurance : \"))\n",
    "print(ele,\"has occured {} times in the list \".format(lst.count(ele)))\n"
   ]
  },
  {
   "cell_type": "code",
   "execution_count": null,
   "id": "2f9cc2a1-91ad-4988-a832-0454182e5f0a",
   "metadata": {},
   "outputs": [],
   "source": []
  }
 ],
 "metadata": {
  "kernelspec": {
   "display_name": "Python 3 (ipykernel)",
   "language": "python",
   "name": "python3"
  },
  "language_info": {
   "codemirror_mode": {
    "name": "ipython",
    "version": 3
   },
   "file_extension": ".py",
   "mimetype": "text/x-python",
   "name": "python",
   "nbconvert_exporter": "python",
   "pygments_lexer": "ipython3",
   "version": "3.10.6"
  }
 },
 "nbformat": 4,
 "nbformat_minor": 5
}
