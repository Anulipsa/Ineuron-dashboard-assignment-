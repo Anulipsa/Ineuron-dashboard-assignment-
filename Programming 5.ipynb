{
 "cells": [
  {
   "cell_type": "markdown",
   "id": "afb0e904-8203-4713-9675-73124cb569c8",
   "metadata": {},
   "source": [
    "## 1.\tWrite a Python Program to Find LCM"
   ]
  },
  {
   "cell_type": "code",
   "execution_count": 3,
   "id": "c694ac86-4782-4def-9417-f8c7d2aee3cf",
   "metadata": {},
   "outputs": [
    {
     "name": "stdout",
     "output_type": "stream",
     "text": [
      "The L.C.M. is 216\n"
     ]
    }
   ],
   "source": [
    "def compute_lcm(x, y):\n",
    "\n",
    "   # choose the greater number\n",
    "    if x > y:\n",
    "        greater = x\n",
    "    else:\n",
    "        greater = y\n",
    "\n",
    "    while(True):\n",
    "        if((greater % x == 0) and (greater % y == 0)):\n",
    "            lcm = greater\n",
    "            break\n",
    "        greater += 1\n",
    "\n",
    "    return lcm\n",
    "\n",
    "num1 = 54\n",
    "num2 = 24\n",
    "\n",
    "print(\"The L.C.M. is\", compute_lcm(num1, num2))"
   ]
  },
  {
   "cell_type": "markdown",
   "id": "9a0d66cb-2d5e-41d5-b421-9e21de41b69b",
   "metadata": {},
   "source": [
    "## 2.\tWrite a Python Program to Find HCF"
   ]
  },
  {
   "cell_type": "code",
   "execution_count": 4,
   "id": "3382485a-f14a-4d90-aa18-77280a1d008e",
   "metadata": {},
   "outputs": [
    {
     "name": "stdout",
     "output_type": "stream",
     "text": [
      "The HCF is 100\n"
     ]
    }
   ],
   "source": [
    "def compute_hcf(x, y):\n",
    "    while(y):\n",
    "        x, y = y, x % y\n",
    "    return x\n",
    "\n",
    "hcf = compute_hcf(300, 400)\n",
    "print(\"The HCF is\", hcf)"
   ]
  },
  {
   "cell_type": "markdown",
   "id": "24c55781-9f4e-467a-98e8-7b233454d855",
   "metadata": {},
   "source": [
    "## 3.\tWrite a Python Program to Convert Decimal to Binary, Octal and Hexadecimal"
   ]
  },
  {
   "cell_type": "code",
   "execution_count": 1,
   "id": "615f4c48-8a76-4c6c-be63-b5170d7e6d2a",
   "metadata": {},
   "outputs": [
    {
     "name": "stdin",
     "output_type": "stream",
     "text": [
      "Enter an integer:  5\n"
     ]
    },
    {
     "name": "stdout",
     "output_type": "stream",
     "text": [
      "The decimal value of 5 is:\n",
      "0b101 in binary.\n",
      "0o5 in octal.\n",
      "0x5 in hexadecimal.\n"
     ]
    }
   ],
   "source": [
    "dec = int(input(\"Enter an integer: \"))\n",
    "print(\"The decimal value of\",dec,\"is:\")\n",
    "print(bin(dec),\"in binary.\")\n",
    "print(oct(dec),\"in octal.\")\n",
    "print(hex(dec),\"in hexadecimal.\")"
   ]
  },
  {
   "cell_type": "markdown",
   "id": "b44e59da-1f51-4009-aced-80912c8bc196",
   "metadata": {},
   "source": [
    "## 4.\tWrite a Python Program To Find ASCII value of a character"
   ]
  },
  {
   "cell_type": "code",
   "execution_count": 5,
   "id": "28428661-8754-4bdf-81af-1e57f69262e5",
   "metadata": {},
   "outputs": [
    {
     "name": "stdout",
     "output_type": "stream",
     "text": [
      "The ASCII value of 'p' is 112\n"
     ]
    }
   ],
   "source": [
    "c = int(input(\"Enter a character:,\")\n",
    "print(\"The ASCII value of '\" + c + \"' is\", ord(c))"
   ]
  },
  {
   "cell_type": "markdown",
   "id": "d7de3400-873a-41e2-aaed-aae50b0845a0",
   "metadata": {},
   "source": [
    "## 5.\tWrite a Python Program to Make a Simple Calculator with 4 basic mathematical operations"
   ]
  },
  {
   "cell_type": "code",
   "execution_count": 5,
   "id": "68aec753-936b-45f7-a368-2c71818dcdc4",
   "metadata": {},
   "outputs": [
    {
     "name": "stdin",
     "output_type": "stream",
     "text": [
      "Please, Enter the first number:  7\n",
      "Please, Enter the second number:  5\n"
     ]
    },
    {
     "name": "stdout",
     "output_type": "stream",
     "text": [
      "7 + 5 = \n",
      "12\n",
      "7 - 5 = \n",
      "2\n",
      "7 * 5 = \n",
      "35\n",
      "7 / 5 = \n",
      "1.4\n"
     ]
    }
   ],
   "source": [
    "number_1 = int(input('Please, Enter the first number: '))\n",
    "number_2 = int(input('Please, Enter the second number: '))\n",
    " \n",
    "# arithematic operation: Addition\n",
    "print('{} + {} = '.format(number_1, number_2))\n",
    "print(number_1 + number_2)\n",
    " \n",
    "# arithematic operation: Subtraction\n",
    "print('{} - {} = '.format(number_1, number_2))\n",
    "print(number_1 - number_2)\n",
    " \n",
    "# arithematic operation: Multiplication\n",
    "print('{} * {} = '.format(number_1, number_2))\n",
    "print(number_1 * number_2)\n",
    " \n",
    "# arithematic operation: Division\n",
    "print('{} / {} = '.format(number_1, number_2))\n",
    "print(number_1 / number_2)"
   ]
  },
  {
   "cell_type": "code",
   "execution_count": null,
   "id": "646f7a89-b794-4afc-bdc9-71f6709c7446",
   "metadata": {},
   "outputs": [],
   "source": []
  }
 ],
 "metadata": {
  "kernelspec": {
   "display_name": "Python 3 (ipykernel)",
   "language": "python",
   "name": "python3"
  },
  "language_info": {
   "codemirror_mode": {
    "name": "ipython",
    "version": 3
   },
   "file_extension": ".py",
   "mimetype": "text/x-python",
   "name": "python",
   "nbconvert_exporter": "python",
   "pygments_lexer": "ipython3",
   "version": "3.10.6"
  }
 },
 "nbformat": 4,
 "nbformat_minor": 5
}
