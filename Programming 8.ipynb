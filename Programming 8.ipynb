{
 "cells": [
  {
   "cell_type": "markdown",
   "id": "b61c7853-ddb0-4e10-8d35-bd89ebf14053",
   "metadata": {},
   "source": [
    "## 1.\tWrite a Python Program to Add Two Matrices"
   ]
  },
  {
   "cell_type": "code",
   "execution_count": 1,
   "id": "bc06dfd4-b5ca-47f9-a6cc-ff947e3bac7b",
   "metadata": {},
   "outputs": [
    {
     "name": "stdout",
     "output_type": "stream",
     "text": [
      "[[10 10 10]\n",
      " [10 10 10]\n",
      " [10 10 10]]\n"
     ]
    }
   ],
   "source": [
    "# Program to add two matrices\n",
    "# using numpy\n",
    " \n",
    "import numpy as np\n",
    "  \n",
    "X = [[1,2,3],\n",
    "    [4 ,5,6],\n",
    "    [7 ,8,9]]\n",
    "  \n",
    "Y = [[9,8,7],\n",
    "    [6,5,4],\n",
    "    [3,2,1]]\n",
    " \n",
    "result = np.array(X) + np.array(Y)\n",
    " \n",
    "print(result)"
   ]
  },
  {
   "cell_type": "markdown",
   "id": "51b00f7a-6365-4e76-8d4c-444e496bd64c",
   "metadata": {},
   "source": [
    "## 2.\tWrite a Python Program to Multiply Two Matrices"
   ]
  },
  {
   "cell_type": "code",
   "execution_count": 2,
   "id": "8949c38a-9c72-480e-8dc4-6214c7b70e48",
   "metadata": {},
   "outputs": [
    {
     "name": "stdout",
     "output_type": "stream",
     "text": [
      "Multiplied Matrix:\n",
      "[17, 26, 35, 44]\n",
      "[41, 62, 83, 104]\n",
      "[65, 98, 131, 164]\n"
     ]
    }
   ],
   "source": [
    "A = [[1,2,3],\n",
    "     [4,5,6],\n",
    "     [7,8,9]]\n",
    "# 3x4 matrix\n",
    "B = [[1,2,3,4],\n",
    "     [5,6,7,8],\n",
    "     [2,4,6,8]]\n",
    "# result is 3x4\n",
    "result = [[0,0,0,0],\n",
    "          [0,0,0,0],\n",
    "          [0,0,0,0]]\n",
    "\n",
    "# iterate through rows of Matrix A\n",
    "for i in range(len(A)):\n",
    "    # iterate through columns of Matrix B\n",
    "    for j in range(len(B[0])):\n",
    "        # iterate through rows of Matrix B\n",
    "        for k in range(len(B)):\n",
    "            result[i][j] += A[i][k] * B[k][j]\n",
    "\n",
    "print('Multiplied Matrix:')\n",
    "for r in result:\n",
    "    print(r)"
   ]
  },
  {
   "cell_type": "markdown",
   "id": "e1a906c7-7307-47b3-ac14-85582c945c5c",
   "metadata": {},
   "source": [
    "## 3.\tWrite a Python Program to Transpose a Matrix"
   ]
  },
  {
   "cell_type": "code",
   "execution_count": 3,
   "id": "e3473c83-f006-4f7d-8dff-a55446aefd6f",
   "metadata": {},
   "outputs": [
    {
     "name": "stdout",
     "output_type": "stream",
     "text": [
      "[12, 4, 3]\n",
      "[7, 5, 8]\n"
     ]
    }
   ],
   "source": [
    "X = [[12,7],\n",
    "    [4 ,5],\n",
    "    [3 ,8]]\n",
    "\n",
    "result = [[0,0,0],\n",
    "         [0,0,0]]\n",
    "\n",
    "# iterate through rows\n",
    "for i in range(len(X)):\n",
    "   # iterate through columns\n",
    "   for j in range(len(X[0])):\n",
    "       result[j][i] = X[i][j]\n",
    "\n",
    "for r in result:\n",
    "   print(r)"
   ]
  },
  {
   "cell_type": "markdown",
   "id": "1cf3119a-b6ed-43d0-924e-52cea22c77fa",
   "metadata": {},
   "source": [
    "## 4.\tWrite a Python Program to Sort Words in Alphabetic Order"
   ]
  },
  {
   "cell_type": "code",
   "execution_count": null,
   "id": "993112cb-b8bd-4108-ba22-229b5b40f8a3",
   "metadata": {},
   "outputs": [],
   "source": []
  }
 ],
 "metadata": {
  "kernelspec": {
   "display_name": "Python 3 (ipykernel)",
   "language": "python",
   "name": "python3"
  },
  "language_info": {
   "codemirror_mode": {
    "name": "ipython",
    "version": 3
   },
   "file_extension": ".py",
   "mimetype": "text/x-python",
   "name": "python",
   "nbconvert_exporter": "python",
   "pygments_lexer": "ipython3",
   "version": "3.10.6"
  }
 },
 "nbformat": 4,
 "nbformat_minor": 5
}
