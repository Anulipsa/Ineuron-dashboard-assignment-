{
 "cells": [
  {
   "cell_type": "markdown",
   "id": "d011fccd",
   "metadata": {},
   "source": [
    "## 1. What does an empty dictionary's code look like?\n",
    "\n",
    "Ans: An empty dictionary is often represented by two empty curly brackets\n",
    "d = {} or d = dict()\n",
    "\n"
   ]
  },
  {
   "cell_type": "code",
   "execution_count": 1,
   "id": "f73e3a57",
   "metadata": {},
   "outputs": [
    {
     "name": "stdout",
     "output_type": "stream",
     "text": [
      "{}\n",
      "Length: 0\n",
      "<class 'dict'>\n"
     ]
    }
   ],
   "source": [
    "# Python3 code to demonstrate use of\n",
    "# {} symbol to initialize dictionary\n",
    "emptyDict = {}\n",
    " \n",
    "# print dictionary\n",
    "print(emptyDict)\n",
    " \n",
    "# print length of dictionary\n",
    "print(\"Length:\", len(emptyDict))\n",
    " \n",
    "# print type\n",
    "print(type(emptyDict))"
   ]
  },
  {
   "cell_type": "markdown",
   "id": "a5d3fefa",
   "metadata": {},
   "source": [
    "## 2. What is the value of a dictionary value with the key &#39;foo&#39; and the value 42?\n",
    "\n",
    "Ans: {'foo':42}"
   ]
  },
  {
   "cell_type": "markdown",
   "id": "46e9e355",
   "metadata": {},
   "source": [
    "## 3. What is the most significant distinction between a dictionary and a list?\n",
    "\n",
    "Ans:- * Dictionaries are represented by {} where as listed are represented by []. \n",
    "       *The Items stored in a dictionary are Unordered , while the items in a list are ordered.\n",
    "\n",
    "   *Lists are just like the arrays, declared in other languages. Lists need not be homogeneous always which makes it a most          powerful tool in Python. A single list may contain DataTypes like Integers, Strings, as well as Objects. Lists are              mutable, and hence, they can be altered even after their creation.\n",
    "\n",
    "   *Dictionary in Python on the other hand is an unordered collection of data values, used to store data values like a map,         which unlike other Data Types that hold only single value as an element, Dictionary holds key:value pair. Key-value is          provided in the dictionary to make it more optimized. Each key-value pair in a Dictionary is separated by a colon :,             whereas each key is separated by a ‘comma’."
   ]
  },
  {
   "cell_type": "code",
   "execution_count": 2,
   "id": "ab3780fb",
   "metadata": {},
   "outputs": [
    {
     "name": "stdout",
     "output_type": "stream",
     "text": [
      "Dictionary with the use of Integer Keys: \n",
      "{1: 'Sruti', 2: 'Anu', 3: 'Lipa'}\n",
      "List containing multiple values: \n",
      "Sam\n",
      "ABC\n"
     ]
    }
   ],
   "source": [
    "#Dictionary\n",
    "Dict = {1: 'Sruti', 2: 'Anu', 3: 'Lipa'}\n",
    "print(\"Dictionary with the use of Integer Keys: \")\n",
    "print(Dict)\n",
    "\n",
    "#List\n",
    "List = [\"Sam\", \"Nikki\", \"ABC\"]\n",
    "print(\"List containing multiple values: \")\n",
    "print(List[0]) \n",
    "print(List[2])"
   ]
  },
  {
   "cell_type": "markdown",
   "id": "b4f7942f",
   "metadata": {},
   "source": [
    "## 4. What happens if you try to access spam['foo'] if spam is {'bar': 100}?\n",
    "\n",
    "Ans: we will get a keyError KeyError: 'foo'\n",
    "\n",
    "\n"
   ]
  },
  {
   "cell_type": "code",
   "execution_count": 3,
   "id": "76a893a6",
   "metadata": {},
   "outputs": [
    {
     "ename": "KeyError",
     "evalue": "'foo'",
     "output_type": "error",
     "traceback": [
      "\u001b[1;31m---------------------------------------------------------------------------\u001b[0m",
      "\u001b[1;31mKeyError\u001b[0m                                  Traceback (most recent call last)",
      "\u001b[1;32mC:\\Users\\ANULIP~1\\AppData\\Local\\Temp/ipykernel_5488/1078832278.py\u001b[0m in \u001b[0;36m<module>\u001b[1;34m\u001b[0m\n\u001b[0;32m      1\u001b[0m \u001b[0mspam\u001b[0m \u001b[1;33m=\u001b[0m \u001b[1;33m{\u001b[0m\u001b[1;34m'bar'\u001b[0m\u001b[1;33m:\u001b[0m \u001b[1;36m100\u001b[0m\u001b[1;33m}\u001b[0m\u001b[1;33m\u001b[0m\u001b[1;33m\u001b[0m\u001b[0m\n\u001b[1;32m----> 2\u001b[1;33m \u001b[0mspam\u001b[0m \u001b[1;33m[\u001b[0m\u001b[1;34m'foo'\u001b[0m\u001b[1;33m]\u001b[0m\u001b[1;33m\u001b[0m\u001b[1;33m\u001b[0m\u001b[0m\n\u001b[0m",
      "\u001b[1;31mKeyError\u001b[0m: 'foo'"
     ]
    }
   ],
   "source": [
    "spam = {'bar': 100}\n",
    "spam ['foo']"
   ]
  },
  {
   "cell_type": "markdown",
   "id": "7f1b08ab",
   "metadata": {},
   "source": [
    "## 5. If a dictionary is stored in spam, what is the difference between the expressions 'cat' in spam and 'cat' in spam.keys()?\n",
    "\n",
    "Ans: There is no difference . The operator checks whether a value exits as a key in the dictionary or not."
   ]
  },
  {
   "cell_type": "markdown",
   "id": "dd7a2526",
   "metadata": {},
   "source": [
    "## 6. If a dictionary is stored in spam, what is the difference between the expressions 'cat' in spam and 'cat' in spam.values()?\n",
    "   Ans:'cat' in spam checks whether there is a 'cat' key in the dictionary, while 'cat' in spam.values() checks whether there is a value 'cat' for one of the keys in spam."
   ]
  },
  {
   "cell_type": "markdown",
   "id": "f9cb3953",
   "metadata": {},
   "source": [
    "## 7. What is a shortcut for the following code?\n",
    "if 'color' not in spam:\n",
    "\n",
    "spam['color'] = 'black'\n",
    "\n",
    "Ans: spam.setdefault('color','black')"
   ]
  },
  {
   "cell_type": "code",
   "execution_count": 4,
   "id": "5d9c217f",
   "metadata": {},
   "outputs": [
    {
     "data": {
      "text/plain": [
       "'black'"
      ]
     },
     "execution_count": 4,
     "metadata": {},
     "output_type": "execute_result"
    }
   ],
   "source": [
    "if 'color' not in spam: spam['color'] ='black'\n",
    "\n",
    "spam.setdefault('color','black')"
   ]
  },
  {
   "cell_type": "markdown",
   "id": "c2c9eba4",
   "metadata": {},
   "source": [
    "## 8. How do you 'pretty print' dictionary values using which module and function?\n",
    "\n",
    "Ans: we can pretty print a dictionary using three functions\n",
    "\n",
    "  1.by using pprint() function of pprint module\n",
    "  \n",
    "      Note: pprint() function doesnot prettify nested dictionaries\n",
    "     \n",
    "  2.by using dumps() method of json module\n",
    "  \n",
    "  3.by using dumps() method of yaml module"
   ]
  },
  {
   "cell_type": "code",
   "execution_count": 5,
   "id": "9b5c5422",
   "metadata": {},
   "outputs": [
    {
     "name": "stdout",
     "output_type": "stream",
     "text": [
      "Printing using print() function\n",
      " [{'Name': 'Sam', 'Age': '54', 'Residence': {'Country': 'Bangladesh', 'City': 'Dhaka'}}, {'Name': 'Krish', 'Age': '23', 'Residence': {'Country': 'Spain', 'City': 'Madrid'}}, {'Name': 'Esha', 'Age': '26', 'Residence': {'Country': 'UK', 'City': 'England'}}, {'Name': 'Papa', 'Age': '64', 'Residence': {'Country': 'Japan', 'City': 'Osaka'}}]\n",
      "----------------------------------------------------------------------\n",
      "Printing using pprint() funciton\n",
      "[{'Age': '54',\n",
      "  'Name': 'Sam',\n",
      "  'Residence': {'City': 'Dhaka', 'Country': 'Bangladesh'}},\n",
      " {'Age': '23',\n",
      "  'Name': 'Krish',\n",
      "  'Residence': {'City': 'Madrid', 'Country': 'Spain'}},\n",
      " {'Age': '26',\n",
      "  'Name': 'Esha',\n",
      "  'Residence': {'City': 'England', 'Country': 'UK'}},\n",
      " {'Age': '64',\n",
      "  'Name': 'Papa',\n",
      "  'Residence': {'City': 'Osaka', 'Country': 'Japan'}}]\n",
      "----------------------------------------------------------------------\n",
      "Printing using dumps() method\n",
      " [\n",
      "    {\n",
      "        \"Name\": \"Sam\",\n",
      "        \"Age\": \"54\",\n",
      "        \"Residence\": {\n",
      "            \"Country\": \"Bangladesh\",\n",
      "            \"City\": \"Dhaka\"\n",
      "        }\n",
      "    },\n",
      "    {\n",
      "        \"Name\": \"Krish\",\n",
      "        \"Age\": \"23\",\n",
      "        \"Residence\": {\n",
      "            \"Country\": \"Spain\",\n",
      "            \"City\": \"Madrid\"\n",
      "        }\n",
      "    },\n",
      "    {\n",
      "        \"Name\": \"Esha\",\n",
      "        \"Age\": \"26\",\n",
      "        \"Residence\": {\n",
      "            \"Country\": \"UK\",\n",
      "            \"City\": \"England\"\n",
      "        }\n",
      "    },\n",
      "    {\n",
      "        \"Name\": \"Papa\",\n",
      "        \"Age\": \"64\",\n",
      "        \"Residence\": {\n",
      "            \"Country\": \"Japan\",\n",
      "            \"City\": \"Osaka\"\n",
      "        }\n",
      "    }\n",
      "]\n",
      "----------------------------------------------------------------------\n",
      "Printing using dump() method\n",
      " - Age: '54'\n",
      "  Name: Sam\n",
      "  Residence:\n",
      "    City: Dhaka\n",
      "    Country: Bangladesh\n",
      "- Age: '23'\n",
      "  Name: Krish\n",
      "  Residence:\n",
      "    City: Madrid\n",
      "    Country: Spain\n",
      "- Age: '26'\n",
      "  Name: Esha\n",
      "  Residence:\n",
      "    City: England\n",
      "    Country: UK\n",
      "- Age: '64'\n",
      "  Name: Papa\n",
      "  Residence:\n",
      "    City: Osaka\n",
      "    Country: Japan\n",
      "\n"
     ]
    }
   ],
   "source": [
    "ndict = [\n",
    "  {'Name': 'Sam', 'Age': '54', 'Residence': {'Country':'Bangladesh', 'City': 'Dhaka'}},\n",
    "  {'Name': 'Krish', 'Age': '23', 'Residence': {'Country':'Spain', 'City': 'Madrid'}},\n",
    "  {'Name': 'Esha', 'Age': '26', 'Residence': {'Country':'UK', 'City': 'England'}},\n",
    "  {'Name': 'Papa', 'Age': '64', 'Residence': {'Country':'Japan', 'City': 'Osaka'}}\n",
    "]\n",
    "\n",
    "print('Printing using print() function\\n',ndict)\n",
    "print('-'*70)\n",
    "import pprint\n",
    "print('Printing using pprint() funciton')\n",
    "pprint.pprint(ndict)\n",
    "print('-'*70)\n",
    "import json\n",
    "dump = json.dumps(ndict, indent=4)\n",
    "print('Printing using dumps() method\\n', dump)\n",
    "print('-'*70)\n",
    "import yaml\n",
    "dump = yaml.dump(ndict)\n",
    "print('Printing using dump() method\\n', dump)"
   ]
  },
  {
   "cell_type": "code",
   "execution_count": null,
   "id": "a3ba1fa7",
   "metadata": {},
   "outputs": [],
   "source": []
  }
 ],
 "metadata": {
  "kernelspec": {
   "display_name": "Python 3 (ipykernel)",
   "language": "python",
   "name": "python3"
  },
  "language_info": {
   "codemirror_mode": {
    "name": "ipython",
    "version": 3
   },
   "file_extension": ".py",
   "mimetype": "text/x-python",
   "name": "python",
   "nbconvert_exporter": "python",
   "pygments_lexer": "ipython3",
   "version": "3.9.7"
  }
 },
 "nbformat": 4,
 "nbformat_minor": 5
}
