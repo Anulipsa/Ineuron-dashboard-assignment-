{
 "cells": [
  {
   "cell_type": "markdown",
   "id": "fe7f2274-1ed0-452f-8fc9-4baecfadeb1f",
   "metadata": {},
   "source": [
    "## 1.\tWrite a Python program to find words which are greater than given length k"
   ]
  },
  {
   "cell_type": "code",
   "execution_count": 1,
   "id": "b9c03560-0406-4a6c-be69-1b61d0143c93",
   "metadata": {},
   "outputs": [
    {
     "name": "stdout",
     "output_type": "stream",
     "text": [
      "Python\n",
      "good\n"
     ]
    }
   ],
   "source": [
    "def word_k(k, s):    \n",
    "    # split the string where space comes\n",
    "    word = s.split(\" \")\n",
    "    # iterate the loop for every word\n",
    "    for x in word:\n",
    "        # if length of current word\n",
    "        if len(x)>k:\n",
    "          # greater than k then\n",
    "          print(x)\n",
    "k = 3\n",
    "s =\"Python is good\"\n",
    "word_k(k, s)"
   ]
  },
  {
   "cell_type": "markdown",
   "id": "a5489930-31fe-4c63-b291-5525ccbb09cb",
   "metadata": {},
   "source": [
    "## 2.\tWrite a Python program for removing i-th character from a string"
   ]
  },
  {
   "cell_type": "code",
   "execution_count": 2,
   "id": "5fac8e12-f549-4d93-b70f-d0e51d69d6a5",
   "metadata": {},
   "outputs": [
    {
     "name": "stdout",
     "output_type": "stream",
     "text": [
      "Pythnisgood\n"
     ]
    }
   ],
   "source": [
    "def remove_char(s, i):\n",
    "    a = s[ : i]\n",
    "    b = s[i + 1: ]\n",
    "\n",
    "    return a+b\n",
    "\n",
    "string = \"Pythonisgood\"\n",
    "# Remove ith index element\n",
    "i = 5\n",
    "print(remove_char(string,i-1))"
   ]
  },
  {
   "cell_type": "markdown",
   "id": "37eb065d-ab2c-4f83-9bf2-72d7396dea1e",
   "metadata": {},
   "source": [
    "## 3.\tWrite a Python program to split and join a string"
   ]
  },
  {
   "cell_type": "code",
   "execution_count": 3,
   "id": "64cba11e-1af9-49e4-834d-abd4bc37218f",
   "metadata": {},
   "outputs": [
    {
     "name": "stdout",
     "output_type": "stream",
     "text": [
      "['I', 'am', 'very', 'much', 'interested', 'in', 'Data', 'Science']\n",
      "I-am-very-much-interested-in-Data-Science\n"
     ]
    }
   ],
   "source": [
    "# Python code\n",
    "# to split and join given string\n",
    " \n",
    "# input string\n",
    "s = 'I am very much interested in Data Science'\n",
    "# print the string after split method\n",
    "print(s.split(\" \"))\n",
    "# print the string after join method\n",
    "print(\"-\".join(s.split()))"
   ]
  },
  {
   "cell_type": "markdown",
   "id": "5b21830d-600d-493c-a184-9aca3394c2d2",
   "metadata": {},
   "source": [
    "## 4.\tWrite a Python to check if a given string is binary string or not"
   ]
  },
  {
   "cell_type": "code",
   "execution_count": 7,
   "id": "6c95a763-e882-4d24-bfb0-41fc216c377d",
   "metadata": {},
   "outputs": [
    {
     "name": "stdout",
     "output_type": "stream",
     "text": [
      "No\n"
     ]
    }
   ],
   "source": [
    "string = \"01010121010\"\n",
    "binary=\"01\"\n",
    "for i in binary:\n",
    "    string=string.replace(i,\"\")\n",
    "if(len(string)==0):\n",
    "    print(\"Yes\")\n",
    "else:\n",
    "    print(\"No\")"
   ]
  },
  {
   "cell_type": "markdown",
   "id": "3d8bb896-e396-4968-ac29-fa028e3d9825",
   "metadata": {},
   "source": [
    "## 5.\tWrite a Python program to find uncommon words from two Strings"
   ]
  },
  {
   "cell_type": "code",
   "execution_count": 8,
   "id": "1e98c4ce-11c2-43be-ade7-71c7f8fc08ee",
   "metadata": {},
   "outputs": [
    {
     "name": "stdout",
     "output_type": "stream",
     "text": [
      "The uncommon words in strings are: ['Python', 'on']\n"
     ]
    }
   ],
   "source": [
    "# uncommon words\n",
    "def find(A, B):\n",
    "   # count\n",
    "   count = {}\n",
    "   # insert in A\n",
    "   for word in A.split():\n",
    "      count[word] = count.get(word, 0) + 1\n",
    "   # insert in B\n",
    "   for word in B.split():\n",
    "      count[word] = count.get(word, 0) + 1\n",
    "   # return ans\n",
    "   return [word for word in count if count[word] == 1]\n",
    "# main\n",
    "A = \"Tutorials point \"\n",
    "B = \"Python on Tutorials point\"\n",
    "print(\"The uncommon words in strings are:\",find(A, B))"
   ]
  },
  {
   "cell_type": "markdown",
   "id": "115681e0-f1d7-4fca-b5b1-c3dfe3430244",
   "metadata": {},
   "source": [
    "## 6.\tWrite a Python to find all duplicate characters in string"
   ]
  },
  {
   "cell_type": "code",
   "execution_count": 9,
   "id": "04d4f240-7aa4-4ac9-832f-31d83a0e1482",
   "metadata": {},
   "outputs": [
    {
     "name": "stdout",
     "output_type": "stream",
     "text": [
      "i   a m e r c n t s\n"
     ]
    }
   ],
   "source": [
    "# initializing the string\n",
    "str = \"i am very much interested in Data science\"\n",
    "# initializing a list to add all the duplicate characters\n",
    "duplicate_char = []\n",
    "for character in str:\n",
    "   # check whether there are duplicate characters or not\n",
    "   # returning the frequency of a character in the string\n",
    "      if str.count(character) > 1:\n",
    "   # append to the list if it is already not present\n",
    "         if character not in duplicate_char:\n",
    "            duplicate_char.append(character)\n",
    "print(*duplicate_char)"
   ]
  },
  {
   "cell_type": "markdown",
   "id": "623d78f8-0f17-4504-8a47-218553276d5f",
   "metadata": {},
   "source": [
    "## 7.\tWrite a Python Program to check if a string contains any special character"
   ]
  },
  {
   "cell_type": "code",
   "execution_count": 1,
   "id": "7e835283-ad19-405c-8d43-b798843c2af4",
   "metadata": {},
   "outputs": [],
   "source": [
    "import re\n",
    "\n",
    "def find(string):\n",
    "    special_char=re.compile('[@_!$%^&*()<>?/\\|}{~:]#')\n",
    "    \n",
    "    if special_char.search(string) == None:\n",
    "        return \"string is accepted\"\n",
    "    else:\n",
    "        return \"string not accpeted\"\n",
    "   \n"
   ]
  },
  {
   "cell_type": "code",
   "execution_count": 2,
   "id": "72505a90-81f1-44dc-8f0d-fddd3b4d1a02",
   "metadata": {},
   "outputs": [
    {
     "name": "stdout",
     "output_type": "stream",
     "text": [
      "Hello15\n",
      "string is accepted\n"
     ]
    }
   ],
   "source": [
    "s=\"Hello15\"\n",
    "print(s)\n",
    "print(find(s))"
   ]
  },
  {
   "cell_type": "code",
   "execution_count": null,
   "id": "a8369a8e-51e5-4926-9734-c6d0d421fecc",
   "metadata": {},
   "outputs": [],
   "source": []
  }
 ],
 "metadata": {
  "kernelspec": {
   "display_name": "Python 3 (ipykernel)",
   "language": "python",
   "name": "python3"
  },
  "language_info": {
   "codemirror_mode": {
    "name": "ipython",
    "version": 3
   },
   "file_extension": ".py",
   "mimetype": "text/x-python",
   "name": "python",
   "nbconvert_exporter": "python",
   "pygments_lexer": "ipython3",
   "version": "3.10.6"
  }
 },
 "nbformat": 4,
 "nbformat_minor": 5
}
