{
 "cells": [
  {
   "cell_type": "markdown",
   "id": "8dc3b9c6",
   "metadata": {},
   "source": [
    "## ASSIGNMENT-1 SOLUTION\n",
    "\n",
    "SUBMITTED BY -ANULIPSA BISOYI\n",
    "\n",
    "## 1. In the below elements which of them are values or an expression? eg:- values can be integer or string and expressions will be mathematical operators.\n",
    "* \n",
    "'hello'\n",
    "-87.8\n",
    "- \n",
    "/ \n",
    "+\t\n",
    "6 \n"
   ]
  },
  {
   "cell_type": "code",
   "execution_count": null,
   "id": "ede0ccf0",
   "metadata": {},
   "outputs": [],
   "source": [
    "values-6,'hello',87.8\n",
    "Expression-/"
   ]
  },
  {
   "cell_type": "markdown",
   "id": "f1fd8cb0",
   "metadata": {},
   "source": [
    "## 2. What is the difference between string and variable?"
   ]
  },
  {
   "cell_type": "code",
   "execution_count": null,
   "id": "aaddee75",
   "metadata": {},
   "outputs": [],
   "source": [
    "* A variable is the name given to a memory location in a program.\n",
    "for example-a=30\n",
    "            b=\"ineuron\"\n",
    "* String is a datatype in python.string is a sequence of characters enclosed in quotes."
   ]
  },
  {
   "cell_type": "markdown",
   "id": "da5c4c43",
   "metadata": {},
   "source": [
    "## 3. Describe three different data types."
   ]
  },
  {
   "cell_type": "code",
   "execution_count": null,
   "id": "7483d141",
   "metadata": {},
   "outputs": [],
   "source": [
    "Integers\n",
    "Floating point number\n",
    "strings"
   ]
  },
  {
   "cell_type": "markdown",
   "id": "fd87dcd2",
   "metadata": {},
   "source": [
    "## 4. What is an expression made up of? What do all expressions do?"
   ]
  },
  {
   "cell_type": "code",
   "execution_count": null,
   "id": "829484ca",
   "metadata": {},
   "outputs": [],
   "source": [
    "* The expression is made of values, variables, operators (arithmetic, bitwise, logical, comparison, etc), function calls ( ex. insert(), remove(), print(),append(),etc) and an expression always returns or produces a result value.\n",
    "\n",
    "* for example\n",
    "\n",
    "      a = 5, b = 7\n",
    "\n",
    "      c = a + b\n",
    "\n",
    "In above example a, b, c are variables, 5 and 7 are values and + and = are operators\n",
    "\n",
    "here a=5, b = 7 and c = a + b are three different expressions.\n",
    "\n",
    "* An expression always calculates/ evaluates to itself i.e expression always returns a value as a result of its evaluation"
   ]
  },
  {
   "cell_type": "markdown",
   "id": "d2dfd4d0",
   "metadata": {},
   "source": [
    "## 5. This assignment statements, like spam = 10. What is the difference between an expression and a statement?\n",
    " "
   ]
  },
  {
   "cell_type": "markdown",
   "id": "168584c1",
   "metadata": {},
   "source": [
    "## 6. After running the following code, what does the variable bacon contain?\n",
    "bacon = 22\n",
    "bacon + 1"
   ]
  },
  {
   "cell_type": "code",
   "execution_count": null,
   "id": "c9c89375",
   "metadata": {},
   "outputs": [],
   "source": [
    "Ans: After running the above code the bacon variable still contains value equal to 22."
   ]
  },
  {
   "cell_type": "markdown",
   "id": "91a80b04",
   "metadata": {},
   "source": [
    "## 7. What should the values of the following two terms be?\n",
    "  "
   ]
  },
  {
   "cell_type": "code",
   "execution_count": null,
   "id": "f2c5576d",
   "metadata": {},
   "outputs": [],
   "source": [
    "'spam' + 'spamspam' equals to ‘spamspamspam’\n",
    "\n",
    "'spam' * 3 also equals to ‘spamspamspam"
   ]
  },
  {
   "cell_type": "markdown",
   "id": "9310273f",
   "metadata": {},
   "source": [
    "## 8. Why is eggs a valid variable name while 100 is invalid?"
   ]
  },
  {
   "cell_type": "code",
   "execution_count": null,
   "id": "e1aff351",
   "metadata": {},
   "outputs": [],
   "source": [
    " Since 100 is a value and a value cannot be assigned to another value hence 100 is invalid variable."
   ]
  },
  {
   "cell_type": "markdown",
   "id": "87d55482",
   "metadata": {},
   "source": [
    "## 9. What three functions can be used to get the integer, floating-point number, or string version of a value?\n"
   ]
  },
  {
   "cell_type": "code",
   "execution_count": null,
   "id": "68a42213",
   "metadata": {},
   "outputs": [],
   "source": [
    "Ans: type casting functions.\n",
    "\n",
    "1) To get integer version of value: int() function\n",
    "\n",
    "2) To get floating-point number version of value: float() function\n",
    "\n",
    "3) To get string version of value: str() function"
   ]
  },
  {
   "cell_type": "markdown",
   "id": "fe0c4092",
   "metadata": {},
   "source": [
    "## 10. Why does this expression cause an error? How can you fix it?\n",
    "'I have eaten'+ 99 + 'burritos';"
   ]
  },
  {
   "cell_type": "code",
   "execution_count": null,
   "id": "461d41d9",
   "metadata": {},
   "outputs": [],
   "source": [
    " Here,\n",
    "\n",
    "‘I have eaten’ , is a string data type.\n",
    "\n",
    "99 is integer data type\n",
    "\n",
    "And ' burritos.' is again a string datatype"
   ]
  }
 ],
 "metadata": {
  "kernelspec": {
   "display_name": "Python 3 (ipykernel)",
   "language": "python",
   "name": "python3"
  },
  "language_info": {
   "codemirror_mode": {
    "name": "ipython",
    "version": 3
   },
   "file_extension": ".py",
   "mimetype": "text/x-python",
   "name": "python",
   "nbconvert_exporter": "python",
   "pygments_lexer": "ipython3",
   "version": "3.9.7"
  }
 },
 "nbformat": 4,
 "nbformat_minor": 5
}
